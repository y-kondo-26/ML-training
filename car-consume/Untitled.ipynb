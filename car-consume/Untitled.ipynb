{
 "cells": [
  {
   "cell_type": "code",
   "execution_count": 83,
   "metadata": {},
   "outputs": [],
   "source": [
    "import numpy as np\n",
    "import pandas as pd\n",
    "from sklearn import preprocessing\n",
    "import xgboost as xgb\n",
    "from xgboost.sklearn import XGBRegressor\n",
    "import datetime\n",
    "from sklearn.model_selection import GridSearchCV\n",
    "from sklearn.model_selection import train_test_split"
   ]
  },
  {
   "cell_type": "code",
   "execution_count": 84,
   "metadata": {},
   "outputs": [
    {
     "name": "stdout",
     "output_type": "stream",
     "text": [
      "Fitting 2 folds for each of 54 candidates, totalling 108 fits\n"
     ]
    },
    {
     "name": "stderr",
     "output_type": "stream",
     "text": [
      "[Parallel(n_jobs=5)]: Using backend LokyBackend with 5 concurrent workers.\n",
      "[Parallel(n_jobs=5)]: Done  40 tasks      | elapsed:    3.3s\n"
     ]
    },
    {
     "name": "stdout",
     "output_type": "stream",
     "text": [
      "[00:47:48] WARNING: src/objective/regression_obj.cu:152: reg:linear is now deprecated in favor of reg:squarederror.\n",
      "0.4860799301707269\n",
      "{'colsample_bytree': 0.75, 'learning_rate': 0.04, 'max_depth': 6, 'min_child_weight': 5, 'n_estimators': 204, 'nthread': 2, 'silent': 0, 'subsample': 0.45}\n"
     ]
    },
    {
     "name": "stderr",
     "output_type": "stream",
     "text": [
      "[Parallel(n_jobs=5)]: Done 108 out of 108 | elapsed:    5.1s finished\n"
     ]
    }
   ],
   "source": [
    "now = datetime.datetime.now()\n",
    "\n",
    "# Load the data\n",
    "df = pd.read_excel(\"measurements2.xlsx\")\n",
    "\n",
    "#除外\n",
    "df = df.drop(['specials','refill liters','refill gas'], axis=1)\n",
    "#欠損値を平均値で埋める\n",
    "df = df.fillna(df.mean())\n",
    "# gas_typeのダミー変数に置き換え\n",
    "df_dummy = pd.get_dummies(df['gas_type'])\n",
    "df = pd.concat([df, df_dummy] , axis=1)\n",
    "df = df.drop(['gas_type','SP98'], axis=1)\n",
    "\n",
    "y = df['consume'].values\n",
    "X = df.drop(['consume'], axis=1)\n",
    "y = np.log(y)\n",
    "x_train, x_test, y_train, y_test = train_test_split(X, y, test_size=0.3, random_state=0)\n",
    "\n",
    "y_train_full = y_train\n",
    "x_train_full = x_train\n",
    "\n",
    "\n",
    "# Various hyper-parameters to tune\n",
    "xgb1 = XGBRegressor()\n",
    "parameters = {'nthread':[2], #when use hyperthread, xgboost may become slower \n",
    "              'learning_rate': [0.039,0.040], #so called `eta` value\n",
    "              'max_depth': [6],\n",
    "              'min_child_weight': [5],\n",
    "              'silent': [0],\n",
    "              'subsample': [0.44, 0.45, 0.46],\n",
    "              'colsample_bytree': [0.74, 0.75, 0.76],\n",
    "              'n_estimators': [204,205,206]}\n",
    "\n",
    "xgb_grid = GridSearchCV(xgb1,\n",
    "                        parameters,\n",
    "                        cv = 2,\n",
    "                        n_jobs = 5,\n",
    "                        verbose=True)\n",
    "\n",
    "xgb_grid.fit(x_train_full,\n",
    "         y_train_full)\n",
    "\n",
    "print(xgb_grid.best_score_)\n",
    "print(xgb_grid.best_params_)"
   ]
  },
  {
   "cell_type": "code",
   "execution_count": 85,
   "metadata": {},
   "outputs": [],
   "source": [
    "xgb2 = XGBRegressor(colsample_bytree=0.75, learning_rate=0.039, max_depth=6, min_child_weight=5, n_estimators=204, \n",
    "                                       nthread=2, silent=0, subsample=0.45)\n"
   ]
  },
  {
   "cell_type": "code",
   "execution_count": 86,
   "metadata": {},
   "outputs": [
    {
     "name": "stdout",
     "output_type": "stream",
     "text": [
      "[00:47:48] WARNING: src/objective/regression_obj.cu:152: reg:linear is now deprecated in favor of reg:squarederror.\n"
     ]
    },
    {
     "data": {
      "text/plain": [
       "XGBRegressor(base_score=0.5, booster='gbtree', colsample_bylevel=1,\n",
       "             colsample_bynode=1, colsample_bytree=0.75, gamma=0,\n",
       "             importance_type='gain', learning_rate=0.039, max_delta_step=0,\n",
       "             max_depth=6, min_child_weight=5, missing=None, n_estimators=204,\n",
       "             n_jobs=1, nthread=2, objective='reg:linear', random_state=0,\n",
       "             reg_alpha=0, reg_lambda=1, scale_pos_weight=1, seed=None, silent=0,\n",
       "             subsample=0.45, verbosity=1)"
      ]
     },
     "execution_count": 86,
     "metadata": {},
     "output_type": "execute_result"
    }
   ],
   "source": [
    "xgb2.fit(x_train, y_train)"
   ]
  },
  {
   "cell_type": "code",
   "execution_count": 87,
   "metadata": {},
   "outputs": [
    {
     "name": "stdout",
     "output_type": "stream",
     "text": [
      "MSE train : 0.187, test : 0.487\n",
      "R2 train : 0.802, test : 0.634\n"
     ]
    }
   ],
   "source": [
    "# 予測値を計算\n",
    "y_train_pred = xgb2.predict(x_train)\n",
    "y_test_pred = xgb2.predict(x_test)\n",
    "\n",
    "# MSEの計算\n",
    "from sklearn.metrics import mean_squared_error\n",
    "print('MSE train : %.3f, test : %.3f' % (mean_squared_error(y_train, y_train_pred), mean_squared_error(y_test, y_test_pred)) )\n",
    "# R^2の計算\n",
    "from sklearn.metrics import r2_score\n",
    "print('R2 train : %.3f, test : %.3f' % (r2_score(y_train, y_train_pred), r2_score(y_test, y_test_pred)) )\n"
   ]
  },
  {
   "cell_type": "code",
   "execution_count": null,
   "metadata": {},
   "outputs": [],
   "source": []
  }
 ],
 "metadata": {
  "kernelspec": {
   "display_name": "Python 3",
   "language": "python",
   "name": "python3"
  },
  "language_info": {
   "codemirror_mode": {
    "name": "ipython",
    "version": 3
   },
   "file_extension": ".py",
   "mimetype": "text/x-python",
   "name": "python",
   "nbconvert_exporter": "python",
   "pygments_lexer": "ipython3",
   "version": "3.7.3"
  }
 },
 "nbformat": 4,
 "nbformat_minor": 2
}
